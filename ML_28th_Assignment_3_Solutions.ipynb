{
 "cells": [
  {
   "cell_type": "markdown",
   "metadata": {},
   "source": [
    "Q1.Write a Python Program to implement your own myreduce() function which works exactly like Python's built-in function reduce()"
   ]
  },
  {
   "cell_type": "code",
   "execution_count": 1,
   "metadata": {},
   "outputs": [
    {
     "name": "stdout",
     "output_type": "stream",
     "text": [
      "Output using simple sum function 67\n",
      "Output using lambda function 67\n"
     ]
    }
   ],
   "source": [
    "#Custome reduce Function\n",
    "def myreduce(func,seq):\n",
    "        result = seq[0]\n",
    "        for i in seq[1:]:\n",
    "             result = func(result, i)\n",
    "        return result\n",
    "    \n",
    "#Testing myreduce filter\n",
    "\n",
    "a= [1,2,3,4,5,8,9,10,12,13]\n",
    "\n",
    "# calling myreduce filter using simple sum function\n",
    "def do_sum(a,b):\n",
    "    return a+b\n",
    "\n",
    "print(\"Output using simple sum function \" + str(myreduce(do_sum,a)))\n",
    "\n",
    "#calling myreduce filter using lambda function\n",
    "\n",
    "print(\"Output using lambda function \"+ str(myreduce(lambda x,y:x+y ,a)))"
   ]
  },
  {
   "cell_type": "markdown",
   "metadata": {},
   "source": [
    "Q2. Write a Python program to implement your own myfilter() function which works exactly like Python's built-in function filter()"
   ]
  },
  {
   "cell_type": "code",
   "execution_count": 2,
   "metadata": {},
   "outputs": [
    {
     "name": "stdout",
     "output_type": "stream",
     "text": [
      "Output using simple even check function [2, 4, 8, 10, 12]\n",
      "Output using lambda function [2, 4, 8, 10, 12]\n"
     ]
    }
   ],
   "source": [
    "def myfilter(func,seq):\n",
    "    result = []\n",
    "    for i in seq:\n",
    "        if func(i):\n",
    "            result.append(i)\n",
    "    return result\n",
    "\n",
    "\n",
    "#Testing myreduce filter\n",
    "\n",
    "a= [1,2,3,4,5,8,9,10,12,13]\n",
    "\n",
    "# calling myreduce filter using simple sum function\n",
    "def do_even_check(n):\n",
    "    if n%2 ==0:\n",
    "        return True\n",
    "\n",
    "print(\"Output using simple even check function \" + str(list(myfilter(do_even_check,a))))\n",
    "\n",
    "#calling myreduce filter using lambda function\n",
    "\n",
    "print(\"Output using lambda function \"+ str(list(myfilter(lambda x : x%2==0 ,a))))"
   ]
  },
  {
   "cell_type": "markdown",
   "metadata": {},
   "source": [
    "Q.3 mplement List comprehensions to produce the following lists. Write List comprehensions to produce the following Lists ['A', 'C', 'A', 'D', 'G', 'I', ’L’, ‘ D’] ['x', 'xx', 'xxx', 'xxxx', 'y', 'yy', 'yyy', 'yyyy', 'z', 'zz', 'zzz', 'zzzz'] ['x', 'y', 'z', 'xx', 'yy', 'zz', 'xxx', 'yyy', 'zzz', 'xxxx', 'yyyy', 'zzzz'] [[2], [3], [4], [3], [4], [5], [4], [5], [6]] [[2, 3, 4, 5], [3, 4, 5, 6], [4, 5, 6, 7], [5, 6, 7, 8]] [(1, 1), (2, 1), (3, 1), (1, 2), (2, 2), (3, 2), (1, 3), (2, 3), (3, 3)]"
   ]
  },
  {
   "cell_type": "code",
   "execution_count": 3,
   "metadata": {},
   "outputs": [
    {
     "name": "stdout",
     "output_type": "stream",
     "text": [
      "['A', 'C', 'A', 'D', 'G', 'I', 'L', 'D']\n",
      "['x', 'xx', 'xxx', 'xxxx', 'y', 'yy', 'yyy', 'yyyy', 'z', 'zz', 'zzz', 'zzzz']\n",
      "['x', 'y', 'z', 'xx', 'yy', 'zz', 'xxx', 'yyy', 'zzz', 'xxxx', 'yyyy', 'zzzz']\n",
      "[[2], [3], [4], [3], [4], [5], [4], [5], [6]]\n",
      "[[2, 3, 4, 5], [3, 4, 5, 6], [4, 5, 6, 7], [5, 6, 7, 8]]\n",
      "[(1, 1), (2, 1), (3, 1), (1, 2), (2, 2), (3, 2), (1, 3), (2, 3), (3, 3)]\n"
     ]
    }
   ],
   "source": [
    "#List1\n",
    "l = \"ACADGILD\"\n",
    "output =[i for i in l]\n",
    "print(output)\n",
    "\n",
    "#List2\n",
    "l= \"xyz\"\n",
    "output=[ i*num  for i in l for num in range(1,5)]\n",
    "print(output)\n",
    "\n",
    "\n",
    "#List3\n",
    "l= \"xyz\"\n",
    "output =[ i*num for num in range(1,5) for i in l ]\n",
    "print(output)\n",
    "\n",
    "#List4\n",
    "l = [2,3,4]\n",
    "output=[ [i+num] for i in l for num in range(0,3)]\n",
    "print(output)\n",
    "\n",
    "#List5\n",
    "l = [2,3,4,5]\n",
    "output=[[i+num for i in l] for num in range(0,4)]\n",
    "print(output)\n",
    "\n",
    "#List6\n",
    "l = [1,2,3]\n",
    "output= [ (num, i) for i in l for num in range(1,4)]\n",
    "print(output)"
   ]
  },
  {
   "cell_type": "code",
   "execution_count": null,
   "metadata": {},
   "outputs": [],
   "source": []
  }
 ],
 "metadata": {
  "kernelspec": {
   "display_name": "Python 3",
   "language": "python",
   "name": "python3"
  },
  "language_info": {
   "codemirror_mode": {
    "name": "ipython",
    "version": 3
   },
   "file_extension": ".py",
   "mimetype": "text/x-python",
   "name": "python",
   "nbconvert_exporter": "python",
   "pygments_lexer": "ipython3",
   "version": "3.7.3"
  }
 },
 "nbformat": 4,
 "nbformat_minor": 2
}
