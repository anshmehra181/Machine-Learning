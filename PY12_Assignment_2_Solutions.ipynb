{
 "cells": [
  {
   "cell_type": "markdown",
   "metadata": {},
   "source": [
    "# Task1\n",
    "Q1.Write a Python Program to implement your own myreduce() function which works exactly like\n",
    "Python's built-in function reduce()"
   ]
  },
  {
   "cell_type": "code",
   "execution_count": 19,
   "metadata": {},
   "outputs": [
    {
     "name": "stdout",
     "output_type": "stream",
     "text": [
      "Output using simple sum function 67\n",
      "Output using lambda function 67\n"
     ]
    }
   ],
   "source": [
    "#Custome reduce Function\n",
    "def myreduce(func,seq):\n",
    "        result = seq[0]\n",
    "        for i in seq[1:]:\n",
    "             result = func(result, i)\n",
    "        return result\n",
    "    \n",
    "#Testing myreduce filter\n",
    "\n",
    "a= [1,2,3,4,5,8,9,10,12,13]\n",
    "\n",
    "# calling myreduce filter using simple sum function\n",
    "def do_sum(a,b):\n",
    "    return a+b\n",
    "\n",
    "print(\"Output using simple sum function \" + str(myreduce(do_sum,a)))\n",
    "\n",
    "#calling myreduce filter using lambda function\n",
    "\n",
    "print(\"Output using lambda function \"+ str(myreduce(lambda x,y:x+y ,a)))"
   ]
  },
  {
   "cell_type": "markdown",
   "metadata": {},
   "source": [
    "Q2. Write a Python program to implement your own myfilter() function which works exactly like\n",
    "Python's built-in function filter()"
   ]
  },
  {
   "cell_type": "code",
   "execution_count": 21,
   "metadata": {},
   "outputs": [
    {
     "name": "stdout",
     "output_type": "stream",
     "text": [
      "Output using simple even check function [2, 4, 8, 10, 12]\n",
      "Output using lambda function [2, 4, 8, 10, 12]\n"
     ]
    }
   ],
   "source": [
    "def myfilter(func,seq):\n",
    "    result = []\n",
    "    for i in seq:\n",
    "        if func(i):\n",
    "            result.append(i)\n",
    "    return result\n",
    "\n",
    "\n",
    "#Testing myreduce filter\n",
    "\n",
    "a= [1,2,3,4,5,8,9,10,12,13]\n",
    "\n",
    "# calling myreduce filter using simple sum function\n",
    "def do_even_check(n):\n",
    "    if n%2 ==0:\n",
    "        return True\n",
    "\n",
    "print(\"Output using simple even check function \" + str(list(myfilter(do_even_check,a))))\n",
    "\n",
    "#calling myreduce filter using lambda function\n",
    "\n",
    "print(\"Output using lambda function \"+ str(list(myfilter(lambda x : x%2==0 ,a))))"
   ]
  },
  {
   "cell_type": "markdown",
   "metadata": {},
   "source": [
    "Q.3 mplement List comprehensions to produce the following lists.\n",
    "  Write List comprehensions to produce the following Lists\n",
    " ['A', 'C', 'A', 'D', 'G', 'I', ’L’, ‘ D’]\n",
    " ['x', 'xx', 'xxx', 'xxxx', 'y', 'yy', 'yyy', 'yyyy', 'z', 'zz', 'zzz', 'zzzz']\n",
    " ['x', 'y', 'z', 'xx', 'yy', 'zz', 'xxx', 'yyy', 'zzz', 'xxxx', 'yyyy', 'zzzz']\n",
    " [[2], [3], [4], [3], [4], [5], [4], [5], [6]]\n",
    " [[2, 3, 4, 5], [3, 4, 5, 6], [4, 5, 6, 7], [5, 6, 7, 8]]\n",
    " [(1, 1), (2, 1), (3, 1), (1, 2), (2, 2), (3, 2), (1, 3), (2, 3), (3, 3)]"
   ]
  },
  {
   "cell_type": "code",
   "execution_count": 74,
   "metadata": {},
   "outputs": [
    {
     "name": "stdout",
     "output_type": "stream",
     "text": [
      "['A', 'C', 'A', 'D', 'G', 'I', 'L', 'D']\n",
      "['x', 'xx', 'xxx', 'xxxx', 'y', 'yy', 'yyy', 'yyyy', 'z', 'zz', 'zzz', 'zzzz']\n",
      "['x', 'y', 'z', 'xx', 'yy', 'zz', 'xxx', 'yyy', 'zzz', 'xxxx', 'yyyy', 'zzzz']\n",
      "[[2], [3], [4], [3], [4], [5], [4], [5], [6]]\n",
      "[[2, 3, 4, 5], [3, 4, 5, 6], [4, 5, 6, 7], [5, 6, 7, 8]]\n",
      "[(1, 1), (2, 1), (3, 1), (1, 2), (2, 2), (3, 2), (1, 3), (2, 3), (3, 3)]\n"
     ]
    }
   ],
   "source": [
    "#List1\n",
    "l = \"ACADGILD\"\n",
    "output =[i for i in l]\n",
    "print(output)\n",
    "\n",
    "#List2\n",
    "l= \"xyz\"\n",
    "output=[ i*num  for i in l for num in range(1,5)]\n",
    "print(output)\n",
    "\n",
    "\n",
    "#List3\n",
    "l= \"xyz\"\n",
    "output =[ i*num for num in range(1,5) for i in l ]\n",
    "print(output)\n",
    "\n",
    "#List4\n",
    "l = [2,3,4]\n",
    "output=[ [i+num] for i in l for num in range(0,3)]\n",
    "print(output)\n",
    "\n",
    "#List5\n",
    "l = [2,3,4,5]\n",
    "output=[[i+num for i in l] for num in range(0,4)]\n",
    "print(output)\n",
    "\n",
    "#List6\n",
    "l = [1,2,3]\n",
    "output= [ (num, i) for i in l for num in range(1,4)]\n",
    "print(output)"
   ]
  },
  {
   "cell_type": "markdown",
   "metadata": {},
   "source": [
    "Q3: Implement a function longestWord() that takes a list of words and returns the longest one"
   ]
  },
  {
   "cell_type": "code",
   "execution_count": 44,
   "metadata": {},
   "outputs": [
    {
     "name": "stdout",
     "output_type": "stream",
     "text": [
      "The word with the longest length is:\n",
      "Bangaluru\n"
     ]
    }
   ],
   "source": [
    "a = [\"Delhi\",\"Bangaluru\",\"Mumbai\",\"Chennai\"]\n",
    "\n",
    "def longestWord(word_list):\n",
    "    max_len=len(a[0])\n",
    "    Max_word=a[0]\n",
    "    for i in word_list:\n",
    "        if(len(i)>max_len):\n",
    "            max_len=len(i)\n",
    "            Max_word=i\n",
    "    print(\"The word with the longest length is:\")\n",
    "    print(Max_word)\n",
    "    \n",
    "longestWord(a)"
   ]
  },
  {
   "cell_type": "markdown",
   "metadata": {},
   "source": [
    "# Task 2 \n",
    "Q1:Write a Python Program(with class concepts) to find the area of the triangle using the below\n",
    "formula.\n",
    "area = (s*(s-a)*(s-b)*(s-c)) ** 0.5\n",
    "Function to take the length of the sides of triangle from user should be defined in the parent\n",
    "class and function to calculate the area should be defined in subclass."
   ]
  },
  {
   "cell_type": "code",
   "execution_count": 52,
   "metadata": {},
   "outputs": [
    {
     "name": "stdout",
     "output_type": "stream",
     "text": [
      "Triangle is Intialized with side 4, 5, 6\n",
      "Area of Triangle is  9.921567416492215\n"
     ]
    }
   ],
   "source": [
    "#Parent Class\n",
    "class Triangle:\n",
    "    def __init__ (self, side1, side2, side3):\n",
    "        self.side1 = side1\n",
    "        self.side2 = side2\n",
    "        self.side3 = side3\n",
    "    def __str__(self):\n",
    "        return\"Triangle is Intialized with side %s, %s, %s\" % (self.side1, self.side2, self.side3)\n",
    "\n",
    "#Child Class\n",
    "class AreaOfTriangle(Triangle):\n",
    "    def __init__(self, *args):\n",
    "        super(AreaOfTriangle, self).__init__(*args)\n",
    "        \n",
    "    \n",
    "        \"Triangle Intialized with side %s, %s, %s \" % (self.side1, self.side2, self.side3)   \n",
    "    def Calc_Area(self):\n",
    "        s= (self.side1 + self.side2 + self.side3)/2\n",
    "        return ((s*(s-self.side1)*(s-self.side2)*(s-self.side3))**0.5)\n",
    "    \n",
    "a= AreaOfTriangle(4,5,6)\n",
    "print(a)\n",
    "print(\"Area of Triangle is  \" +str(a.Calc_Area()))"
   ]
  },
  {
   "cell_type": "markdown",
   "metadata": {},
   "source": [
    "Q2: Write a function filter_long_words() that takes a list of words and an integer n and returns the list\n",
    "of words that are longer than n."
   ]
  },
  {
   "cell_type": "code",
   "execution_count": 9,
   "metadata": {},
   "outputs": [
    {
     "name": "stdout",
     "output_type": "stream",
     "text": [
      "Please input the list of words: Bangaluru Gurgaon Noida Delhi\n",
      "Please input an integer: 5\n",
      "The list of words greater than the integer is ['Bangaluru', 'Gurgaon']\n"
     ]
    }
   ],
   "source": [
    "def filterlongword(str,n):  \n",
    "    word_list = []  \n",
    "    txt = str.split(\" \")  \n",
    "    for x in txt:  \n",
    "        if len(x) > n:  \n",
    "            word_list.append(x)  \n",
    "    return word_list  \n",
    "\n",
    "words = input(\"Please input the list of words: \")\n",
    "integer = int(input(\"Please input an integer: \"))\n",
    "\n",
    "Output = filterlongword(words,integer)\n",
    "\n",
    "print(\"The list of words greater than the integer is\",Output)\n"
   ]
  },
  {
   "cell_type": "markdown",
   "metadata": {},
   "source": [
    "Q3: Write a Python program using function concept that maps list of words into a list of integers\n",
    "representing the lengths of the corresponding words .\n",
    "     Hint:    If a list [ ab,cde,erty] is passed on to the python function output should come as [2,3,4]\n",
    "Here 2,3 and 4 are the lengths of the words in the list.\n"
   ]
  },
  {
   "cell_type": "code",
   "execution_count": 8,
   "metadata": {},
   "outputs": [
    {
     "name": "stdout",
     "output_type": "stream",
     "text": [
      "Please input the list of words: Anshul is from Himachal Pradesh\n",
      "The length of the input words is [6, 2, 4, 8, 7]\n"
     ]
    }
   ],
   "source": [
    "def GetLengthOfword(str):  \n",
    "    word_len = []  \n",
    "    txt = str.split(\" \")  \n",
    "    for x in txt:\n",
    "        word_len.append(len(x))  \n",
    "    return word_len  \n",
    "\n",
    "words = input(\"Please input the list of words: \")\n",
    "\n",
    "Output = GetLengthOfword(words)\n",
    "\n",
    "print(\"The length of the input words is\",Output)\n"
   ]
  },
  {
   "cell_type": "markdown",
   "metadata": {},
   "source": [
    "Q4: Write a Python function which takes a character (i.e. a string of length 1) and returns True if it is\n",
    "a vowel, False otherwise"
   ]
  },
  {
   "cell_type": "code",
   "execution_count": 7,
   "metadata": {},
   "outputs": [
    {
     "name": "stdout",
     "output_type": "stream",
     "text": [
      "Enter any alphabet: i\n",
      "i is a vowel\n"
     ]
    }
   ],
   "source": [
    "def vowelcheck(word):\n",
    "    if(word ==\"a\" or word ==\"i\" or word ==\"o\" or word ==\"e\" or word ==\"u\"):\n",
    "        return True\n",
    "    else:\n",
    "        return False\n",
    "    \n",
    "word = input(\"Enter any alphabet: \")\n",
    "\n",
    "\n",
    "if(vowelcheck(word)==True):\n",
    "    print(word, \"is a vowel\")\n",
    "else:\n",
    "    print(word, \"is not a vowel\")"
   ]
  },
  {
   "cell_type": "code",
   "execution_count": 1,
   "metadata": {},
   "outputs": [],
   "source": []
  }
 ],
 "metadata": {
  "kernelspec": {
   "display_name": "Python 3",
   "language": "python",
   "name": "python3"
  },
  "language_info": {
   "codemirror_mode": {
    "name": "ipython",
    "version": 3
   },
   "file_extension": ".py",
   "mimetype": "text/x-python",
   "name": "python",
   "nbconvert_exporter": "python",
   "pygments_lexer": "ipython3",
   "version": "3.7.3"
  }
 },
 "nbformat": 4,
 "nbformat_minor": 2
}
