{
 "cells": [
  {
   "cell_type": "markdown",
   "metadata": {},
   "source": [
    "Q1:Q1:Write a Python Program(with class concepts) to find the area of the triangle using the below formula. area = (s(s-a)(s-b)(s-c)) * 0.5 Function to take the length of the sides of triangle from user should be defined in the parent class and function to calculate the area should be defined in subclass."
   ]
  },
  {
   "cell_type": "code",
   "execution_count": 1,
   "metadata": {},
   "outputs": [
    {
     "name": "stdout",
     "output_type": "stream",
     "text": [
      "Triangle is Intialized with side 4, 5, 6\n",
      "Area of Triangle is  9.921567416492215\n"
     ]
    }
   ],
   "source": [
    "#Parent Class\n",
    "class Triangle:\n",
    "    def __init__ (self, side1, side2, side3):\n",
    "        self.side1 = side1\n",
    "        self.side2 = side2\n",
    "        self.side3 = side3\n",
    "    def __str__(self):\n",
    "        return\"Triangle is Intialized with side %s, %s, %s\" % (self.side1, self.side2, self.side3)\n",
    "\n",
    "#Child Class\n",
    "class AreaOfTriangle(Triangle):\n",
    "    def __init__(self, *args):\n",
    "        super(AreaOfTriangle, self).__init__(*args)\n",
    "        \n",
    "    \n",
    "        \"Triangle Intialized with side %s, %s, %s \" % (self.side1, self.side2, self.side3)   \n",
    "    def Calc_Area(self):\n",
    "        s= (self.side1 + self.side2 + self.side3)/2\n",
    "        return ((s*(s-self.side1)*(s-self.side2)*(s-self.side3))**0.5)\n",
    "    \n",
    "a= AreaOfTriangle(4,5,6)\n",
    "print(a)\n",
    "print(\"Area of Triangle is  \" +str(a.Calc_Area()))"
   ]
  },
  {
   "cell_type": "markdown",
   "metadata": {},
   "source": [
    "Q2: Write a function filter_long_words() that takes a list of words and an integer n and returns the list of words that are longer than n."
   ]
  },
  {
   "cell_type": "code",
   "execution_count": 2,
   "metadata": {},
   "outputs": [
    {
     "name": "stdout",
     "output_type": "stream",
     "text": [
      "Please input the list of words: Bangaluru Gurgaon Noida Delhi\n",
      "Please input an integer: 5\n",
      "The list of words greater than the integer is ['Bangaluru', 'Gurgaon']\n"
     ]
    }
   ],
   "source": [
    "def filterlongword(str,n):  \n",
    "    word_list = []  \n",
    "    txt = str.split(\" \")  \n",
    "    for x in txt:  \n",
    "        if len(x) > n:  \n",
    "            word_list.append(x)  \n",
    "    return word_list  \n",
    "\n",
    "words = input(\"Please input the list of words: \")\n",
    "integer = int(input(\"Please input an integer: \"))\n",
    "\n",
    "Output = filterlongword(words,integer)\n",
    "\n",
    "print(\"The list of words greater than the integer is\",Output)\n"
   ]
  },
  {
   "cell_type": "markdown",
   "metadata": {},
   "source": [
    "Q3: Write a Python program using function concept that maps list of words into a list of integers representing the lengths of the corresponding words . Hint: If a list [ ab,cde,erty] is passed on to the python function output should come as [2,3,4] Here 2,3 and 4 are the lengths of the words in the list."
   ]
  },
  {
   "cell_type": "code",
   "execution_count": 3,
   "metadata": {},
   "outputs": [
    {
     "name": "stdout",
     "output_type": "stream",
     "text": [
      "Please input the list of words: Anshul is from Himachal Pradesh\n",
      "The length of the input words is [6, 2, 4, 8, 7]\n"
     ]
    }
   ],
   "source": [
    "def GetLengthOfword(str):  \n",
    "    word_len = []  \n",
    "    txt = str.split(\" \")  \n",
    "    for x in txt:\n",
    "        word_len.append(len(x))  \n",
    "    return word_len  \n",
    "\n",
    "words = input(\"Please input the list of words: \")\n",
    "\n",
    "Output = GetLengthOfword(words)\n",
    "\n",
    "print(\"The length of the input words is\",Output)\n"
   ]
  },
  {
   "cell_type": "markdown",
   "metadata": {},
   "source": [
    "Q4: Write a Python function which takes a character (i.e. a string of length 1) and returns True if it is a vowel, False otherwise"
   ]
  },
  {
   "cell_type": "code",
   "execution_count": 5,
   "metadata": {},
   "outputs": [
    {
     "name": "stdout",
     "output_type": "stream",
     "text": [
      "Enter any alphabet: i\n",
      "i is a vowel\n"
     ]
    }
   ],
   "source": [
    "def vowelcheck(word):\n",
    "    if(word ==\"a\" or word ==\"i\" or word ==\"o\" or word ==\"e\" or word ==\"u\"):\n",
    "        return True\n",
    "    else:\n",
    "        return False\n",
    "    \n",
    "word = input(\"Enter any alphabet: \")\n",
    "\n",
    "\n",
    "if(vowelcheck(word)==True):\n",
    "    print(word, \"is a vowel\")\n",
    "else:\n",
    "    print(word, \"is not a vowel\")"
   ]
  },
  {
   "cell_type": "code",
   "execution_count": null,
   "metadata": {},
   "outputs": [],
   "source": []
  }
 ],
 "metadata": {
  "kernelspec": {
   "display_name": "Python 3",
   "language": "python",
   "name": "python3"
  },
  "language_info": {
   "codemirror_mode": {
    "name": "ipython",
    "version": 3
   },
   "file_extension": ".py",
   "mimetype": "text/x-python",
   "name": "python",
   "nbconvert_exporter": "python",
   "pygments_lexer": "ipython3",
   "version": "3.7.3"
  }
 },
 "nbformat": 4,
 "nbformat_minor": 2
}
